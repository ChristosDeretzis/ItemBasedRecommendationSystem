{
 "cells": [
  {
   "cell_type": "code",
   "execution_count": 40,
   "metadata": {},
   "outputs": [],
   "source": [
    "import numpy as np\n",
    "from numpy import random as rand"
   ]
  },
  {
   "cell_type": "code",
   "execution_count": 152,
   "metadata": {},
   "outputs": [],
   "source": [
    "# Create a 2-dimensional n*m matrix filled with random numbers from the uniform distribution \n",
    "def create_matrix(n_rows, n_columns):\n",
    "    scores_array = np.around(rand.uniform(1,10,size=(n_rows, n_columns)), decimals = 2)\n",
    "    return scores_array\n",
    " "
   ]
  },
  {
   "cell_type": "code",
   "execution_count": 220,
   "metadata": {},
   "outputs": [
    {
     "name": "stdout",
     "output_type": "stream",
     "text": [
      "[[5.08 3.82 5.66 4.65 1.25 5.92 9.75 4.24 3.75 7.9 ]\n",
      " [9.27 4.27 2.75 4.99 1.93 1.39 2.44 9.03 6.39 7.4 ]\n",
      " [6.21 9.99 8.   3.19 5.51 4.66 6.86 5.51 4.87 9.58]\n",
      " [5.42 7.55 4.72 2.98 5.37 9.92 8.05 5.61 3.46 9.63]\n",
      " [1.38 5.16 5.27 8.56 9.68 3.56 5.61 6.68 2.44 4.95]\n",
      " [4.82 8.23 6.98 1.13 5.98 1.39 3.44 9.45 7.19 2.7 ]\n",
      " [5.43 9.48 6.01 9.93 3.12 1.62 5.97 2.18 7.88 5.42]\n",
      " [7.07 9.7  7.15 4.41 8.01 4.65 9.29 7.67 5.94 7.92]\n",
      " [6.1  7.14 2.49 4.71 6.96 2.92 3.94 6.87 3.   6.59]\n",
      " [3.38 9.6  4.34 9.42 4.3  5.12 1.25 9.22 7.96 8.13]]\n"
     ]
    }
   ],
   "source": [
    "# Test function\n",
    "scores = create_matrix(10,10)\n",
    "\n",
    "print(scores)"
   ]
  },
  {
   "cell_type": "code",
   "execution_count": 221,
   "metadata": {},
   "outputs": [],
   "source": [
    "# from the array filled with numbers from uniform distribution, choose only a percent of the matrix\n",
    "# and the rest of the percent, fill it in with nan(not a number) values, in order to predict them\n",
    "def calculate_scores_for_prediction(scores_array, percent):\n",
    "    scores_for_prediction = scores_array.copy()\n",
    "    number_of_nans = int(np.round((1-percent)*scores_array.shape[0]*scores_array.shape[1]))\n",
    "    choices = np.random.choice(scores_array.size, number_of_zeros, replace=False)\n",
    "    scores_for_prediction.ravel()[choices] = np.nan\n",
    "    \n",
    "    return scores_for_prediction"
   ]
  },
  {
   "cell_type": "code",
   "execution_count": 222,
   "metadata": {},
   "outputs": [
    {
     "name": "stdout",
     "output_type": "stream",
     "text": [
      "[[ nan  nan  nan  nan  nan 5.92 9.75 4.24 3.75 7.9 ]\n",
      " [9.27  nan  nan 4.99  nan  nan  nan 9.03 6.39 7.4 ]\n",
      " [6.21 9.99 8.   3.19  nan 4.66 6.86 5.51  nan 9.58]\n",
      " [5.42 7.55 4.72 2.98 5.37 9.92 8.05 5.61 3.46 9.63]\n",
      " [1.38 5.16  nan 8.56 9.68 3.56 5.61 6.68 2.44 4.95]\n",
      " [4.82  nan 6.98  nan 5.98 1.39  nan 9.45 7.19 2.7 ]\n",
      " [5.43 9.48 6.01  nan 3.12 1.62 5.97 2.18 7.88 5.42]\n",
      " [ nan 9.7  7.15 4.41 8.01 4.65 9.29 7.67  nan  nan]\n",
      " [6.1  7.14 2.49  nan 6.96 2.92 3.94 6.87  nan  nan]\n",
      " [3.38 9.6  4.34  nan 4.3  5.12 1.25 9.22 7.96  nan]]\n"
     ]
    }
   ],
   "source": [
    "# Test function\n",
    "scores_predict = calculate_scores_for_prediction(scores, 0.75)\n",
    "\n",
    "print(scores_predict)"
   ]
  },
  {
   "cell_type": "code",
   "execution_count": 223,
   "metadata": {},
   "outputs": [],
   "source": [
    "def Jaccard_Similarity(matrix, column_01, column_02):\n",
    "    # Create sets from x and y by removing the nan values\n",
    "    x = {i for i in matrix[:,column_01] if not np.isnan(i)}\n",
    "    y = {i for i in matrix[:,column_02] if not np.isnan(i)}\n",
    "    \n",
    "    # Calculate Jaccard Similarity\n",
    "    intersection = len(set(x) & set(y))\n",
    "    union = len(set(x) | set(y))\n",
    "    return intersection/float(union)"
   ]
  },
  {
   "cell_type": "code",
   "execution_count": 224,
   "metadata": {},
   "outputs": [
    {
     "ename": "TypeError",
     "evalue": "Jaccard_Similarity() missing 1 required positional argument: 'column_02'",
     "output_type": "error",
     "traceback": [
      "\u001b[1;31m---------------------------------------------------------------------------\u001b[0m",
      "\u001b[1;31mTypeError\u001b[0m                                 Traceback (most recent call last)",
      "\u001b[1;32m<ipython-input-224-2fda8738d2b0>\u001b[0m in \u001b[0;36m<module>\u001b[1;34m()\u001b[0m\n\u001b[0;32m      1\u001b[0m \u001b[1;31m# Test function\u001b[0m\u001b[1;33m\u001b[0m\u001b[1;33m\u001b[0m\u001b[0m\n\u001b[1;32m----> 2\u001b[1;33m \u001b[0mJaccard_Similarity\u001b[0m\u001b[1;33m(\u001b[0m\u001b[0mscores_predict\u001b[0m\u001b[1;33m[\u001b[0m\u001b[1;33m:\u001b[0m\u001b[1;33m,\u001b[0m\u001b[1;36m0\u001b[0m\u001b[1;33m]\u001b[0m\u001b[1;33m,\u001b[0m \u001b[0mscores_predict\u001b[0m\u001b[1;33m[\u001b[0m\u001b[1;33m:\u001b[0m\u001b[1;33m,\u001b[0m\u001b[1;36m4\u001b[0m\u001b[1;33m]\u001b[0m\u001b[1;33m)\u001b[0m\u001b[1;33m\u001b[0m\u001b[0m\n\u001b[0m",
      "\u001b[1;31mTypeError\u001b[0m: Jaccard_Similarity() missing 1 required positional argument: 'column_02'"
     ]
    }
   ],
   "source": [
    "# Test function\n",
    "Jaccard_Similarity(scores_predict[:,0], scores_predict[:,4])"
   ]
  },
  {
   "cell_type": "code",
   "execution_count": 225,
   "metadata": {},
   "outputs": [],
   "source": [
    "def Dice_Similarity(matrix, column_01, column_02):\n",
    "    # Create sets from x and y by removing the nan values\n",
    "    x = {i for i in matrix[:,column_01] if not np.isnan(i)}\n",
    "    y = {i for i in matrix[:,column_02] if not np.isnan(i)}\n",
    "    \n",
    "    # Calculate Dice Similarity\n",
    "    intersection = len(set(x) & set(y))\n",
    "    return (2*intersection)/(len(x) + len(y))"
   ]
  },
  {
   "cell_type": "code",
   "execution_count": 226,
   "metadata": {},
   "outputs": [
    {
     "ename": "IndexError",
     "evalue": "index 10 is out of bounds for axis 1 with size 10",
     "output_type": "error",
     "traceback": [
      "\u001b[1;31m---------------------------------------------------------------------------\u001b[0m",
      "\u001b[1;31mIndexError\u001b[0m                                Traceback (most recent call last)",
      "\u001b[1;32m<ipython-input-226-80ee3e45a289>\u001b[0m in \u001b[0;36m<module>\u001b[1;34m()\u001b[0m\n\u001b[0;32m      1\u001b[0m \u001b[1;31m# Test function\u001b[0m\u001b[1;33m\u001b[0m\u001b[1;33m\u001b[0m\u001b[0m\n\u001b[1;32m----> 2\u001b[1;33m \u001b[0mDice_Similarity\u001b[0m\u001b[1;33m(\u001b[0m\u001b[0mscores_predict\u001b[0m\u001b[1;33m,\u001b[0m \u001b[1;36m0\u001b[0m\u001b[1;33m,\u001b[0m \u001b[1;36m10\u001b[0m\u001b[1;33m)\u001b[0m\u001b[1;33m\u001b[0m\u001b[0m\n\u001b[0m",
      "\u001b[1;32m<ipython-input-225-8d764e01a022>\u001b[0m in \u001b[0;36mDice_Similarity\u001b[1;34m(matrix, column_01, column_02)\u001b[0m\n\u001b[0;32m      2\u001b[0m     \u001b[1;31m# Create sets from x and y by removing the nan values\u001b[0m\u001b[1;33m\u001b[0m\u001b[1;33m\u001b[0m\u001b[0m\n\u001b[0;32m      3\u001b[0m     \u001b[0mx\u001b[0m \u001b[1;33m=\u001b[0m \u001b[1;33m{\u001b[0m\u001b[0mi\u001b[0m \u001b[1;32mfor\u001b[0m \u001b[0mi\u001b[0m \u001b[1;32min\u001b[0m \u001b[0mmatrix\u001b[0m\u001b[1;33m[\u001b[0m\u001b[1;33m:\u001b[0m\u001b[1;33m,\u001b[0m\u001b[0mcolumn_01\u001b[0m\u001b[1;33m]\u001b[0m \u001b[1;32mif\u001b[0m \u001b[1;32mnot\u001b[0m \u001b[0mnp\u001b[0m\u001b[1;33m.\u001b[0m\u001b[0misnan\u001b[0m\u001b[1;33m(\u001b[0m\u001b[0mi\u001b[0m\u001b[1;33m)\u001b[0m\u001b[1;33m}\u001b[0m\u001b[1;33m\u001b[0m\u001b[0m\n\u001b[1;32m----> 4\u001b[1;33m     \u001b[0my\u001b[0m \u001b[1;33m=\u001b[0m \u001b[1;33m{\u001b[0m\u001b[0mi\u001b[0m \u001b[1;32mfor\u001b[0m \u001b[0mi\u001b[0m \u001b[1;32min\u001b[0m \u001b[0mmatrix\u001b[0m\u001b[1;33m[\u001b[0m\u001b[1;33m:\u001b[0m\u001b[1;33m,\u001b[0m\u001b[0mcolumn_02\u001b[0m\u001b[1;33m]\u001b[0m \u001b[1;32mif\u001b[0m \u001b[1;32mnot\u001b[0m \u001b[0mnp\u001b[0m\u001b[1;33m.\u001b[0m\u001b[0misnan\u001b[0m\u001b[1;33m(\u001b[0m\u001b[0mi\u001b[0m\u001b[1;33m)\u001b[0m\u001b[1;33m}\u001b[0m\u001b[1;33m\u001b[0m\u001b[0m\n\u001b[0m\u001b[0;32m      5\u001b[0m \u001b[1;33m\u001b[0m\u001b[0m\n\u001b[0;32m      6\u001b[0m     \u001b[1;31m# Calculate Dice Similarity\u001b[0m\u001b[1;33m\u001b[0m\u001b[1;33m\u001b[0m\u001b[0m\n",
      "\u001b[1;31mIndexError\u001b[0m: index 10 is out of bounds for axis 1 with size 10"
     ]
    }
   ],
   "source": [
    "# Test function\n",
    "Dice_Similarity(scores_predict, 0, 10)"
   ]
  },
  {
   "cell_type": "code",
   "execution_count": 227,
   "metadata": {},
   "outputs": [],
   "source": [
    "def Cosine_Similarity(matrix,column_01, column_02):\n",
    "    \n",
    "    # Get the 2 columns from matrix\n",
    "    x = matrix[:, column_01]\n",
    "    y = matrix[:, column_02]\n",
    "    \n",
    "    # Calculate the dot product, ignoring nan values\n",
    "    dot_product = np.nansum(x*y)\n",
    "    \n",
    "    # calculate the norm of the x and y columns, ignoring nan values\n",
    "    x_norm = np.linalg.norm(x[~np.isnan(x)])\n",
    "    y_norm = np.linalg.norm(y[~np.isnan(y)])\n",
    "    \n",
    "    # return the result\n",
    "    return dot_product/(x_norm*y_norm)"
   ]
  },
  {
   "cell_type": "code",
   "execution_count": 228,
   "metadata": {},
   "outputs": [
    {
     "data": {
      "text/plain": [
       "0.5015890985730859"
      ]
     },
     "execution_count": 228,
     "metadata": {},
     "output_type": "execute_result"
    }
   ],
   "source": [
    "# Test function\n",
    "Cosine_Similarity(scores_predict, 0, 3)"
   ]
  },
  {
   "cell_type": "code",
   "execution_count": 184,
   "metadata": {},
   "outputs": [],
   "source": [
    "def Adjusted_Cosine_Similarity(matrix,column_01, column_02):\n",
    "    # Calculate the mean of each row, ignoring the nan values\n",
    "    row_mean = np.nanmean(matrix,axis=1)\n",
    "    \n",
    "    # Get the 2 columns from matrix\n",
    "    x = matrix[:,column_01]\n",
    "    y = matrix[:,column_02]\n",
    "    \n",
    "    # substract each element of the 2 columns by their row average\n",
    "    x_adjusted = x - row_mean\n",
    "    y_adjusted = y - row_mean\n",
    "    \n",
    "    # create a copy of the initial scores matrix prediction and \n",
    "    # set the new columns with the adjusted ones\n",
    "    copy_matrix = np.array(matrix)\n",
    "    copy_matrix[:,column_01] = x_adjusted\n",
    "    copy_matrix[:,column_02] = y_adjusted\n",
    "    \n",
    "    # Calculate cosine similarity on the adjusted columns\n",
    "    return Cosine_Similarity(copy_matrix, column_01, column_02)"
   ]
  },
  {
   "cell_type": "code",
   "execution_count": 185,
   "metadata": {},
   "outputs": [
    {
     "data": {
      "text/plain": [
       "-0.25612211110411365"
      ]
     },
     "execution_count": 185,
     "metadata": {},
     "output_type": "execute_result"
    }
   ],
   "source": [
    "# Test function\n",
    "Adjusted_Cosine_Similarity(scores_predict, 0,3)"
   ]
  },
  {
   "cell_type": "code",
   "execution_count": 292,
   "metadata": {},
   "outputs": [],
   "source": [
    "# this function predicts the scores in the scores matrix filled with a certain percent of values, using a certain method\n",
    "# of calculation (such as simple average, weighted average or hybrid prediction), a certain method of prediction\n",
    "# such as(cosine or adjusted cosine) and a certain value of k\n",
    "def predict_scores_in_matrix(scores_predict, scores_actual, method_prediction, method_calculation, k):\n",
    "    absolute_error = 0\n",
    "    number_of_nans = 0\n",
    "    # loop through the 2d matrix\n",
    "    for idx, x in np.ndenumerate(scores_predict):\n",
    "        # if the value is not a number, then calculate the predicted value and find the absolute error of the predicted value\n",
    "        if np.isnan(x):\n",
    "            predicted_score = predict_score_in_place(idx[0], idx[1], scores_predict, method_prediction, method_calculation, k)\n",
    "            actual_score = scores_actual[idx[0],idx[1]]\n",
    "            absolute_error += np.absolute(predicted_score - actual_score)\n",
    "            number_of_nans += 1\n",
    "    # it returns the Mean Absolute Error of the predicted values\n",
    "    return absolute_error/number_of_nans            \n",
    "            "
   ]
  },
  {
   "cell_type": "code",
   "execution_count": 293,
   "metadata": {},
   "outputs": [
    {
     "data": {
      "text/plain": [
       "2.6386857142857143"
      ]
     },
     "execution_count": 293,
     "metadata": {},
     "output_type": "execute_result"
    }
   ],
   "source": [
    "predict_scores_in_matrix(scores_predict,scores, method_prediction = 'Cosine', method_calculation = 'Simple Average', k = 7)"
   ]
  },
  {
   "cell_type": "code",
   "execution_count": 265,
   "metadata": {},
   "outputs": [],
   "source": [
    "# this function predicts the score of a certain value in the scores matrix. It takes as argument the row and the column, where\n",
    "# the score is located at the score matrix, the score matrix, the method prediction (such as simple average, weighted average or hybrid prediction), \n",
    "# the method of prediction such as(cosine or adjusted cosine) and a certain value of k\n",
    "def predict_score_in_place(n_row, n_col, score_matrix, method_prediction, method_calculation, k):\n",
    "    # for each item(column) in the score matrix,except the column index where the predicted item is located\n",
    "    # calculate the similarities between the column, where the item is located, and the other columns of \n",
    "    # the score matrix\n",
    "    similarities = []\n",
    "    for j in range(len(score_matrix[n_row])):\n",
    "        current_column = j\n",
    "        if current_column == n_col:\n",
    "            continue\n",
    "        else:\n",
    "            similarity = choose_comparision_method(method_prediction,score_matrix, current_column, n_col)\n",
    "            similarities.append((similarity, current_column))\n",
    "    if method_calculation == 'Simple Average':\n",
    "        return Simple_Average(score_matrix, similarities, n_row, k)\n",
    "    elif method_calculation == 'Weighted Average':\n",
    "        return Weighted_Average(score_matrix, similarities, n_row, k)\n",
    "    elif method_calculation == 'Hybrid Prediction':\n",
    "        return Hybrid_Prediction(score_matrix, similarities, n_row, k)"
   ]
  },
  {
   "cell_type": "code",
   "execution_count": null,
   "metadata": {},
   "outputs": [],
   "source": []
  },
  {
   "cell_type": "code",
   "execution_count": 266,
   "metadata": {},
   "outputs": [],
   "source": [
    "# calculate the similarity of 2 columns based on a certain similarity method(e.g Dice, Cosine, ..) \n",
    "def choose_comparision_method(name_of_method, matrix, index_column_01, index_column_02):\n",
    "    if name_of_method == 'Jaccard':\n",
    "        return Jaccard_Similarity(matrix, index_column_01, index_column_02)\n",
    "    elif name_of_method == 'Dice':\n",
    "        return Dice_Similarity(matrix, index_column_01, index_column_02)\n",
    "    elif name_of_method == 'Cosine':\n",
    "        return Cosine_Similarity(matrix, column_01, column_02)\n",
    "    elif name_of_method == 'Adjusted Cosine':\n",
    "        return Adjusted_Cosine_Similarity(matrix, column_01, column_02)"
   ]
  },
  {
   "cell_type": "code",
   "execution_count": 268,
   "metadata": {},
   "outputs": [],
   "source": [
    "# This fuction is the upper function of the item based collcaborative filtering. It takes as arguments the number of rows and \n",
    "# columns of the matrix, the percentage of the known values in the score matrix, the method of prediction(like Cosine), \n",
    "# the method of calculation(like Simple Average), the k value, and the iterations of the program\n",
    "def item_to_item_collaborative_filtering(n_rows, n_cols, percent, method_prediction, method_calculation, k, n_iters):\n",
    "    # Create a matrix based on the dimensions the user wants\n",
    "    scores_matrix = create_matrix(n_rows, n_cols)\n",
    "    \n",
    "    sum = 0\n",
    "    # for each iteration of the program, fill the matrix with certain values based on the percent the user wants, predict the\n",
    "    # scores and calculate the mean absolute error of the predictions\n",
    "    for i in range(n_iters):\n",
    "        scores_to_predict = calculate_scores_for_prediction(scores_matrix, percent)\n",
    "        mean_absolute_error = predict_scores_in_matrix(scores_to_predict, scores_matrix,method_prediction,method_calculation, k)\n",
    "        print(\"For iteration \", i+1, \" the mae is: \", mean_absolute_error)\n",
    "        sum += mean_absolute_error\n",
    "        \n",
    "    # return the average of all mean absolute errors\n",
    "    average = sum/n_iters\n",
    "    print(\"Average MAE is: \", average)"
   ]
  },
  {
   "cell_type": "code",
   "execution_count": 291,
   "metadata": {},
   "outputs": [
    {
     "name": "stdout",
     "output_type": "stream",
     "text": [
      "For iteration  1  the mae is:  2.422485748903161\n",
      "For iteration  2  the mae is:  2.583177071635511\n",
      "For iteration  3  the mae is:  2.384330050184875\n",
      "For iteration  4  the mae is:  2.4433550841405074\n",
      "For iteration  5  the mae is:  2.4475166838021454\n",
      "For iteration  6  the mae is:  2.4379857795028994\n",
      "For iteration  7  the mae is:  2.3732925070152255\n",
      "For iteration  8  the mae is:  2.3865821801421956\n",
      "For iteration  9  the mae is:  2.3907864900506803\n",
      "For iteration  10  the mae is:  2.380703018639413\n",
      "For iteration  11  the mae is:  2.4293142709824473\n",
      "For iteration  12  the mae is:  2.389242989307957\n",
      "For iteration  13  the mae is:  2.388593175741769\n",
      "For iteration  14  the mae is:  2.409971944016976\n",
      "For iteration  15  the mae is:  2.301152835689793\n",
      "For iteration  16  the mae is:  2.372427945633334\n",
      "For iteration  17  the mae is:  2.3269433784188545\n",
      "For iteration  18  the mae is:  2.3665396304336594\n",
      "For iteration  19  the mae is:  2.33101426791522\n",
      "For iteration  20  the mae is:  2.363910456292621\n",
      "Average MAE is:  2.396466275422462\n"
     ]
    }
   ],
   "source": [
    "    item_to_item_collaborative_filtering(50,50,0.5,'Adjusted Cosine','Weighted Average',10,20)"
   ]
  },
  {
   "cell_type": "code",
   "execution_count": 269,
   "metadata": {},
   "outputs": [],
   "source": [
    "def Simple_Average(score_predict, similarity_matrix, row, k):\n",
    "    # similarity matrix is an array with tuple elements of the form: (similarity_value, column_index)\n",
    "    #Sort the similarity matrix based on the similarity value of item\n",
    "    similarity_matrix.sort(key=lambda x:x[0], reverse=True)\n",
    "    \n",
    "    # Calculate the simple average with the k values that\n",
    "    # have the highest score prediction value. If k < number_of_not_nan_values,\n",
    "    # then calculate the simple average of the number_of_not_nan_values\n",
    "    sum_scores = 0\n",
    "    \n",
    "    # i is for counting all the loops inside while loop\n",
    "    i = 0\n",
    "    \n",
    "    # j is for counting the loops, where score is not nan\n",
    "    j = 0\n",
    "    \n",
    "    # for the k values that are not nan with the highest prediction score,\n",
    "    # calculate the simple average\n",
    "    while j < k:\n",
    "        column = similarity_matrix[i][1]\n",
    "        score = score_predict[row][column]\n",
    "        \n",
    "        # check if a score is not nan,\n",
    "        # then add score to the variable sum_scores\n",
    "        if not np.isnan(score):\n",
    "            sum_scores += score\n",
    "            j += 1;\n",
    "        i += 1\n",
    "        \n",
    "        # if i is higher or equal than the number of columns of scores matrix, break out of the loop\n",
    "        if i >= score_predict.shape[1] - 1:\n",
    "            break\n",
    "    return sum_scores/j"
   ]
  },
  {
   "cell_type": "code",
   "execution_count": 270,
   "metadata": {},
   "outputs": [],
   "source": [
    "def Weighted_Average(score_predict, similarity_matrix, row, k):\n",
    "    # similarity matrix is an array with tuple elements of the form: (similarity_value, column_index)\n",
    "    #Sort the similarity matrix based on the similarity value of item\n",
    "    similarity_matrix.sort(key=lambda x:x[0], reverse=True)\n",
    "    \n",
    "    # Calculate the weighted average with the k values that\n",
    "    # have the highest score prediction value and use the score prediction\n",
    "    # values as weights for the weighted average calculation. If k < number_of_not_nan_values,\n",
    "    # then calculate the weighted average of the number_of_not_nan_values\n",
    "    sum_scores = 0\n",
    "    sum_weights = 0\n",
    "    \n",
    "    # i is for counting all the loops inside while loop\n",
    "    i = 0\n",
    "    \n",
    "    # j is for counting the loops, where score is not nan\n",
    "    j = 0\n",
    "    \n",
    "    # for the k values that are not nan with the highest prediction score,\n",
    "    # calculate the weighted average\n",
    "    while j < k:\n",
    "        column = similarity_matrix[i][1]\n",
    "        weight = similarity_matrix[i][0]\n",
    "        score = score_predict[row][column]\n",
    "        \n",
    "        # check if a score is not equal to nan,\n",
    "        # then add weighted_score and weight to their variables sums\n",
    "        if not np.isnan(score):\n",
    "            weighted_score = weight*score\n",
    "            sum_scores += weighted_score\n",
    "            sum_weights += weight\n",
    "            j += 1\n",
    "        i += 1\n",
    "        \n",
    "        # if i is higher or equal than the number of columns of scores matrix, break out of the loop\n",
    "        if i>=score_predict.shape[1] - 1:\n",
    "            break\n",
    "    return sum_scores/sum_weights"
   ]
  },
  {
   "cell_type": "code",
   "execution_count": 271,
   "metadata": {},
   "outputs": [],
   "source": [
    "def Hybrid_Prediction(score_predict, similarity_matrix, row, k):\n",
    "    simple_average = Simple_Average(score_predict, similarity_matrix, row, k);\n",
    "    weighted_average = Weighted_Average(score_predict, similarity_matrix, row, k)\n",
    "    return (simple_average + weighted_average)/2"
   ]
  },
  {
   "cell_type": "code",
   "execution_count": null,
   "metadata": {},
   "outputs": [],
   "source": []
  }
 ],
 "metadata": {
  "kernelspec": {
   "display_name": "Python 3",
   "language": "python",
   "name": "python3"
  },
  "language_info": {
   "codemirror_mode": {
    "name": "ipython",
    "version": 3
   },
   "file_extension": ".py",
   "mimetype": "text/x-python",
   "name": "python",
   "nbconvert_exporter": "python",
   "pygments_lexer": "ipython3",
   "version": "3.7.0"
  }
 },
 "nbformat": 4,
 "nbformat_minor": 2
}
