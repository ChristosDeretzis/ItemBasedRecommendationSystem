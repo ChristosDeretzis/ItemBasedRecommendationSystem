{
 "cells": [
  {
   "cell_type": "code",
   "execution_count": 399,
   "metadata": {},
   "outputs": [],
   "source": [
    "import numpy as np\n",
    "from numpy import random as rand"
   ]
  },
  {
   "cell_type": "code",
   "execution_count": 400,
   "metadata": {},
   "outputs": [],
   "source": [
    "def create_matrix(n_rows, n_columns):\n",
    "    scores_array = rand.uniform(1,10,size=(n_rows, n_columns))\n",
    "    return scores_array\n",
    " "
   ]
  },
  {
   "cell_type": "code",
   "execution_count": 401,
   "metadata": {},
   "outputs": [
    {
     "name": "stdout",
     "output_type": "stream",
     "text": [
      "[[2.88144295 7.75572267 8.2596561  9.95275555]\n",
      " [2.65102091 9.45806778 9.32238493 3.426355  ]\n",
      " [6.36835243 8.71455767 1.50715765 3.61784713]\n",
      " [7.96453529 2.79092004 3.40903609 3.86891039]]\n"
     ]
    }
   ],
   "source": [
    "# Test function\n",
    "scores = create_matrix(4,4)\n",
    "\n",
    "print(scores)"
   ]
  },
  {
   "cell_type": "code",
   "execution_count": 402,
   "metadata": {},
   "outputs": [],
   "source": [
    "def calculate_scores_for_prediction(scores_array, percent):\n",
    "    scores_for_prediction = scores_array.copy()\n",
    "    number_of_zeros = int(np.round((1-percent)*scores_array.shape[0]*scores_array.shape[1]))\n",
    "    choices = np.random.choice(scores_array.size, number_of_zeros, replace=False)\n",
    "    scores_for_prediction.ravel()[choices] = 0 \n",
    "    \n",
    "    return scores_for_prediction"
   ]
  },
  {
   "cell_type": "code",
   "execution_count": 440,
   "metadata": {},
   "outputs": [
    {
     "name": "stdout",
     "output_type": "stream",
     "text": [
      "[[2.88144295 7.75572267 8.2596561  9.95275555]\n",
      " [2.65102091 9.45806778 9.32238493 3.426355  ]\n",
      " [6.36835243 8.71455767 0.         0.        ]\n",
      " [7.96453529 2.79092004 3.40903609 0.        ]]\n"
     ]
    }
   ],
   "source": [
    "# Test function\n",
    "scores_predict = calculate_scores_for_prediction(scores, 0.8)\n",
    "\n",
    "print(scores_predict)"
   ]
  },
  {
   "cell_type": "code",
   "execution_count": 441,
   "metadata": {},
   "outputs": [],
   "source": [
    "def Jaccard_Similarity(x, y):\n",
    "    intersection = len(set(x) & set(y))\n",
    "    union = len(set(x) | set(y))\n",
    "    return intersection/float(union)"
   ]
  },
  {
   "cell_type": "code",
   "execution_count": 442,
   "metadata": {},
   "outputs": [
    {
     "ename": "IndexError",
     "evalue": "index 4 is out of bounds for axis 1 with size 4",
     "output_type": "error",
     "traceback": [
      "\u001b[1;31m---------------------------------------------------------------------------\u001b[0m",
      "\u001b[1;31mIndexError\u001b[0m                                Traceback (most recent call last)",
      "\u001b[1;32m<ipython-input-442-2fda8738d2b0>\u001b[0m in \u001b[0;36m<module>\u001b[1;34m()\u001b[0m\n\u001b[0;32m      1\u001b[0m \u001b[1;31m# Test function\u001b[0m\u001b[1;33m\u001b[0m\u001b[1;33m\u001b[0m\u001b[0m\n\u001b[1;32m----> 2\u001b[1;33m \u001b[0mJaccard_Similarity\u001b[0m\u001b[1;33m(\u001b[0m\u001b[0mscores_predict\u001b[0m\u001b[1;33m[\u001b[0m\u001b[1;33m:\u001b[0m\u001b[1;33m,\u001b[0m\u001b[1;36m0\u001b[0m\u001b[1;33m]\u001b[0m\u001b[1;33m,\u001b[0m \u001b[0mscores_predict\u001b[0m\u001b[1;33m[\u001b[0m\u001b[1;33m:\u001b[0m\u001b[1;33m,\u001b[0m\u001b[1;36m4\u001b[0m\u001b[1;33m]\u001b[0m\u001b[1;33m)\u001b[0m\u001b[1;33m\u001b[0m\u001b[0m\n\u001b[0m",
      "\u001b[1;31mIndexError\u001b[0m: index 4 is out of bounds for axis 1 with size 4"
     ]
    }
   ],
   "source": [
    "# Test function\n",
    "Jaccard_Similarity(scores_predict[:,0], scores_predict[:,4])"
   ]
  },
  {
   "cell_type": "code",
   "execution_count": 443,
   "metadata": {},
   "outputs": [],
   "source": [
    "def Dice_Similarity(x,y):\n",
    "    intersection = len(set(x) & set(y))\n",
    "    return (2*intersection)/(len(x) + len(y))"
   ]
  },
  {
   "cell_type": "code",
   "execution_count": 444,
   "metadata": {},
   "outputs": [
    {
     "ename": "IndexError",
     "evalue": "index 4 is out of bounds for axis 1 with size 4",
     "output_type": "error",
     "traceback": [
      "\u001b[1;31m---------------------------------------------------------------------------\u001b[0m",
      "\u001b[1;31mIndexError\u001b[0m                                Traceback (most recent call last)",
      "\u001b[1;32m<ipython-input-444-d0cdceeb5846>\u001b[0m in \u001b[0;36m<module>\u001b[1;34m()\u001b[0m\n\u001b[0;32m      1\u001b[0m \u001b[1;31m# Test function\u001b[0m\u001b[1;33m\u001b[0m\u001b[1;33m\u001b[0m\u001b[0m\n\u001b[1;32m----> 2\u001b[1;33m \u001b[0mDice_Similarity\u001b[0m\u001b[1;33m(\u001b[0m\u001b[0mscores_predict\u001b[0m\u001b[1;33m[\u001b[0m\u001b[1;33m:\u001b[0m\u001b[1;33m,\u001b[0m\u001b[1;36m0\u001b[0m\u001b[1;33m]\u001b[0m\u001b[1;33m,\u001b[0m \u001b[0mscores_predict\u001b[0m\u001b[1;33m[\u001b[0m\u001b[1;33m:\u001b[0m\u001b[1;33m,\u001b[0m\u001b[1;36m4\u001b[0m\u001b[1;33m]\u001b[0m\u001b[1;33m)\u001b[0m\u001b[1;33m\u001b[0m\u001b[0m\n\u001b[0m",
      "\u001b[1;31mIndexError\u001b[0m: index 4 is out of bounds for axis 1 with size 4"
     ]
    }
   ],
   "source": [
    "# Test function\n",
    "Dice_Similarity(scores_predict[:,0], scores_predict[:,4])"
   ]
  },
  {
   "cell_type": "code",
   "execution_count": 445,
   "metadata": {},
   "outputs": [],
   "source": [
    "def Cosine_Similarity(x,y):\n",
    "    dot_product = np.dot(x,y)\n",
    "    x_norm = np.linalg.norm(x)\n",
    "    y_norm = np.linalg.norm(y)\n",
    "    return dot_product/(x_norm*y_norm)"
   ]
  },
  {
   "cell_type": "code",
   "execution_count": 446,
   "metadata": {},
   "outputs": [
    {
     "ename": "IndexError",
     "evalue": "index 4 is out of bounds for axis 1 with size 4",
     "output_type": "error",
     "traceback": [
      "\u001b[1;31m---------------------------------------------------------------------------\u001b[0m",
      "\u001b[1;31mIndexError\u001b[0m                                Traceback (most recent call last)",
      "\u001b[1;32m<ipython-input-446-f75e90f004e6>\u001b[0m in \u001b[0;36m<module>\u001b[1;34m()\u001b[0m\n\u001b[0;32m      1\u001b[0m \u001b[1;31m# Test function\u001b[0m\u001b[1;33m\u001b[0m\u001b[1;33m\u001b[0m\u001b[0m\n\u001b[1;32m----> 2\u001b[1;33m \u001b[0mCosine_Similarity\u001b[0m\u001b[1;33m(\u001b[0m\u001b[0mscores_predict\u001b[0m\u001b[1;33m[\u001b[0m\u001b[1;33m:\u001b[0m\u001b[1;33m,\u001b[0m\u001b[1;36m0\u001b[0m\u001b[1;33m]\u001b[0m\u001b[1;33m,\u001b[0m \u001b[0mscores_predict\u001b[0m\u001b[1;33m[\u001b[0m\u001b[1;33m:\u001b[0m\u001b[1;33m,\u001b[0m\u001b[1;36m4\u001b[0m\u001b[1;33m]\u001b[0m\u001b[1;33m)\u001b[0m\u001b[1;33m\u001b[0m\u001b[0m\n\u001b[0m",
      "\u001b[1;31mIndexError\u001b[0m: index 4 is out of bounds for axis 1 with size 4"
     ]
    }
   ],
   "source": [
    "# Test function\n",
    "Cosine_Similarity(scores_predict[:,0], scores_predict[:,4])"
   ]
  },
  {
   "cell_type": "code",
   "execution_count": 447,
   "metadata": {},
   "outputs": [],
   "source": [
    "def Adjusted_Cosine_Similarity(x,y):\n",
    "    x_mean = np.mean(x)\n",
    "    x_adjusted = x - x_mean\n",
    "    \n",
    "    y_mean = np.mean(y)\n",
    "    y_adjusted = y - y_mean\n",
    "    \n",
    "    return Cosine_Similarity(x_adjusted, y_adjusted)"
   ]
  },
  {
   "cell_type": "code",
   "execution_count": 448,
   "metadata": {},
   "outputs": [
    {
     "ename": "IndexError",
     "evalue": "index 4 is out of bounds for axis 1 with size 4",
     "output_type": "error",
     "traceback": [
      "\u001b[1;31m---------------------------------------------------------------------------\u001b[0m",
      "\u001b[1;31mIndexError\u001b[0m                                Traceback (most recent call last)",
      "\u001b[1;32m<ipython-input-448-adc88cc18d47>\u001b[0m in \u001b[0;36m<module>\u001b[1;34m()\u001b[0m\n\u001b[0;32m      1\u001b[0m \u001b[1;31m# Test function\u001b[0m\u001b[1;33m\u001b[0m\u001b[1;33m\u001b[0m\u001b[0m\n\u001b[1;32m----> 2\u001b[1;33m \u001b[0mAdjusted_Cosine_Similarity\u001b[0m\u001b[1;33m(\u001b[0m\u001b[0mscores_predict\u001b[0m\u001b[1;33m[\u001b[0m\u001b[1;33m:\u001b[0m\u001b[1;33m,\u001b[0m\u001b[1;36m0\u001b[0m\u001b[1;33m]\u001b[0m\u001b[1;33m,\u001b[0m \u001b[0mscores_predict\u001b[0m\u001b[1;33m[\u001b[0m\u001b[1;33m:\u001b[0m\u001b[1;33m,\u001b[0m\u001b[1;36m4\u001b[0m\u001b[1;33m]\u001b[0m\u001b[1;33m)\u001b[0m\u001b[1;33m\u001b[0m\u001b[0m\n\u001b[0m",
      "\u001b[1;31mIndexError\u001b[0m: index 4 is out of bounds for axis 1 with size 4"
     ]
    }
   ],
   "source": [
    "# Test function\n",
    "Adjusted_Cosine_Similarity(scores_predict[:,0], scores_predict[:,4])"
   ]
  },
  {
   "cell_type": "code",
   "execution_count": 449,
   "metadata": {},
   "outputs": [
    {
     "name": "stdout",
     "output_type": "stream",
     "text": [
      "Predicted score in row:  2  and in column:  2  is: 5.1022559456622725\n",
      "Actual score in row:  2  and in column:  2  is: 1.5071576530664377\n",
      "++++++++++++++++++++++++++++++++++++++++++++++++++++++++++++++++++++++++\n",
      "Predicted score in row:  2  and in column:  3  is: 5.023646145196072\n",
      "Actual score in row:  2  and in column:  3  is: 3.61784713030248\n",
      "++++++++++++++++++++++++++++++++++++++++++++++++++++++++++++++++++++++++\n",
      "Predicted score in row:  3  and in column:  3  is: 4.79170852216785\n",
      "Actual score in row:  3  and in column:  3  is: 3.868910392881798\n",
      "++++++++++++++++++++++++++++++++++++++++++++++++++++++++++++++++++++++++\n",
      "The mean absolute error is:  5.923695436775479\n"
     ]
    }
   ],
   "source": [
    "mae = 0\n",
    "for idx, x in np.ndenumerate(scores_predict):\n",
    "    if x == 0:\n",
    "        predicted_score = predict_score_in_place(idx[0], idx[1], scores_predict)\n",
    "        print(\"Predicted score in row: \", idx[0], \" and in column: \", idx[1], \" is: \" + str(predicted_score))\n",
    "        print(\"Actual score in row: \", idx[0], \" and in column: \", idx[1], \" is: \" + str(scores[idx[0],idx[1]]))\n",
    "        print(\"++++++++++++++++++++++++++++++++++++++++++++++++++++++++++++++++++++++++\")\n",
    "        actual_score = scores[idx[0],idx[1]]\n",
    "        mae += np.absolute(predicted_score - actual_score)\n",
    "print(\"The mean absolute error is: \", mae)\n",
    "                \n",
    "            "
   ]
  },
  {
   "cell_type": "code",
   "execution_count": 437,
   "metadata": {},
   "outputs": [],
   "source": [
    "def predict_score_in_place(n_row, n_col, score_matrix):\n",
    "    k = 3\n",
    "    similarities = []\n",
    "    for j in range(len(score_matrix[n_row])):\n",
    "        current_column = j\n",
    "        if j == n_col:\n",
    "            continue\n",
    "        else:\n",
    "            vector_01 = []\n",
    "            vector_02 = []\n",
    "            for i in range(len(score_matrix[:,current_column])):\n",
    "                if score_matrix[i,current_column] != 0 and score_matrix[i,n_col] != 0:\n",
    "                    vector_01.append(score_matrix[i,current_column])\n",
    "                    vector_02.append(score_matrix[i,n_col])\n",
    "            # Make some changes\n",
    "            similarity = choose_comparision_method('Cosine', vector_01, vector_02)\n",
    "            similarities.append((similarity, j))\n",
    "    return calculate_score(score_matrix, similarities, n_row, k, 'Weighted Average')"
   ]
  },
  {
   "cell_type": "code",
   "execution_count": 434,
   "metadata": {},
   "outputs": [],
   "source": [
    "def choose_comparision_method(name_of_method, vector_01, vector_02):\n",
    "    if name_of_method == 'Jaccard':\n",
    "        return Jaccard_Similarity(vector_01, vector_02)\n",
    "    elif name_of_method == 'Dice':\n",
    "        return Dice_Similarity(vector_01, vector_02)\n",
    "    elif name_of_method == 'Cosine':\n",
    "        return Cosine_Similarity(vector_01, vector_02)\n",
    "    elif name_of_method == 'Adjusted Cosine':\n",
    "        return Adjusted_Cosine_Similarity(vector_01, vector_02)"
   ]
  },
  {
   "cell_type": "code",
   "execution_count": 435,
   "metadata": {},
   "outputs": [],
   "source": [
    "def calculate_score(score_matrix, similarity_matrix, row, k, method):\n",
    "    similarity_matrix.sort(key=lambda x:x[0], reverse=True)\n",
    "    sum_scores = 0\n",
    "    if method == 'Simple Average':\n",
    "        for i in range(k):\n",
    "            column = similarity_matrix[i][1]\n",
    "            score = score_matrix[row][column]\n",
    "            sum_scores += score\n",
    "        return sum_scores/k\n",
    "    elif method == 'Weighted Average':\n",
    "        sum_weights = 0;\n",
    "        for i in range(k):\n",
    "            column = similarity_matrix[i][1]\n",
    "            weight = similarity_matrix[i][0]\n",
    "            score = score_matrix[row][column]\n",
    "            weighted_score = weight*score\n",
    "            sum_scores += weighted_score\n",
    "            sum_weights += weight\n",
    "        return sum_scores/sum_weights"
   ]
  },
  {
   "cell_type": "code",
   "execution_count": null,
   "metadata": {},
   "outputs": [],
   "source": []
  },
  {
   "cell_type": "code",
   "execution_count": null,
   "metadata": {},
   "outputs": [],
   "source": []
  }
 ],
 "metadata": {
  "kernelspec": {
   "display_name": "Python 3",
   "language": "python",
   "name": "python3"
  },
  "language_info": {
   "codemirror_mode": {
    "name": "ipython",
    "version": 3
   },
   "file_extension": ".py",
   "mimetype": "text/x-python",
   "name": "python",
   "nbconvert_exporter": "python",
   "pygments_lexer": "ipython3",
   "version": "3.7.0"
  }
 },
 "nbformat": 4,
 "nbformat_minor": 2
}
