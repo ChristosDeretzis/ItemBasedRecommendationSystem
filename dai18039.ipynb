{
 "cells": [
  {
   "cell_type": "code",
   "execution_count": 8,
   "metadata": {},
   "outputs": [],
   "source": [
    "import numpy as np\n",
    "from numpy import random as rand"
   ]
  },
  {
   "cell_type": "code",
   "execution_count": 9,
   "metadata": {},
   "outputs": [],
   "source": [
    "def create_matrix(n_rows, n_columns):\n",
    "    scores_array = rand.uniform(1,10,size=(n_rows, n_columns))\n",
    "    return scores_array\n",
    " "
   ]
  },
  {
   "cell_type": "code",
   "execution_count": 10,
   "metadata": {},
   "outputs": [
    {
     "name": "stdout",
     "output_type": "stream",
     "text": [
      "[[2.22615164 7.53709899 7.78273411 7.34903367 3.29736239 7.41828996\n",
      "  8.35119156 4.27552607 3.50035782 6.92560144 8.46641421 6.16583816\n",
      "  6.600214   3.69939627 6.0065867  4.02042111 3.36822142 4.45139341\n",
      "  6.18699369 5.85508094]\n",
      " [7.08541402 4.11659285 7.5890232  5.23041967 3.17502895 2.70027791\n",
      "  4.48312539 4.03230916 2.51934835 3.85467839 5.27500607 4.54225115\n",
      "  9.75007707 4.66912968 5.82691654 9.22066443 7.72232185 9.14606674\n",
      "  7.40466476 2.24322699]\n",
      " [7.13736039 1.96695585 8.35158221 6.00324855 7.61911644 8.19603295\n",
      "  2.96659273 5.47936467 7.82452262 6.67251212 7.99761687 5.0247863\n",
      "  3.61566418 6.01040826 4.87169365 8.43111985 9.90579311 6.01025466\n",
      "  6.82723147 5.87092732]\n",
      " [7.18595301 4.72123424 6.06063371 4.77548687 3.9000328  2.02190459\n",
      "  5.06362169 4.47546169 8.77037761 1.55368574 6.0866687  2.25851066\n",
      "  8.52126774 2.23106941 5.80068666 8.52260433 1.25345226 2.48149402\n",
      "  3.81838263 4.99792876]\n",
      " [8.92128995 8.80768215 6.73764081 7.9298429  6.45603124 3.46856567\n",
      "  7.27895348 5.06623504 9.25708847 2.11510458 1.05899766 5.5656923\n",
      "  3.33982684 8.43732935 3.47419041 7.33308535 5.52234719 6.49722974\n",
      "  6.88732611 9.64419259]\n",
      " [3.84071489 9.83961158 6.13992165 7.51059102 2.63740406 1.7200058\n",
      "  8.58873628 1.90027342 9.30668598 7.31275786 2.56423388 4.58636304\n",
      "  7.53867707 7.72777328 6.80461726 7.82133964 9.03344008 5.58957273\n",
      "  8.36779099 6.75997034]\n",
      " [6.89448864 5.38511804 3.14952066 8.86793005 2.66710592 3.88574014\n",
      "  4.17871759 8.88247352 6.32448814 4.97815297 5.18975742 5.49024912\n",
      "  9.67836238 2.46667916 5.30211144 5.3261107  9.00766203 6.7773399\n",
      "  6.25864889 7.04535985]\n",
      " [9.17863912 7.72499447 1.25954551 6.12263237 7.95199197 8.68303429\n",
      "  2.25725347 7.99545068 4.08456461 8.95195078 5.15243315 7.21844335\n",
      "  5.90793413 3.15485056 6.52117308 4.64662723 2.58792684 5.01561066\n",
      "  1.83955565 2.27908882]\n",
      " [4.81759194 4.63536098 2.22217341 6.68577467 9.02650296 4.80066908\n",
      "  3.79613079 4.15039516 6.22439467 6.69358506 9.72832129 1.71482003\n",
      "  1.65627621 4.80173201 5.95497402 5.77440385 2.87047204 2.57945975\n",
      "  1.89517287 9.04485803]\n",
      " [6.16476096 3.2078889  3.95864927 7.45006979 2.83995933 7.65138658\n",
      "  8.79880827 3.49221501 9.52497942 8.77171864 6.22789627 1.79175126\n",
      "  2.53738544 8.55702779 9.1441547  1.16401706 2.64406845 7.68277527\n",
      "  9.86874784 2.06386938]\n",
      " [9.80412176 7.36275526 1.83747319 5.11072315 1.91642042 5.31651851\n",
      "  4.2719834  2.59672929 3.36200945 8.85491593 9.12068435 5.23950975\n",
      "  5.75356278 6.22038133 7.6564722  7.36017102 7.45428727 3.56182123\n",
      "  7.08315258 8.31064258]\n",
      " [3.86347954 2.2586268  3.22555168 4.70051531 8.43716958 2.17827576\n",
      "  3.60617954 9.91915019 9.2362787  3.50733334 7.94885644 6.46993409\n",
      "  6.42019151 5.89274982 4.11777806 8.86782267 3.66876775 5.59273188\n",
      "  5.66366014 3.43487671]\n",
      " [5.90646961 2.41446962 4.03012304 8.15085237 2.55589476 9.37863763\n",
      "  5.10318516 1.25254747 3.09107755 5.71366645 1.10312642 5.71199531\n",
      "  6.40672886 8.22561168 2.02279009 6.17367993 1.23341459 4.24569359\n",
      "  7.03757279 5.12552415]\n",
      " [5.69958922 7.96329087 6.59251696 3.66909426 9.13200082 7.46502736\n",
      "  2.83529238 5.07091409 7.6478734  2.62008135 9.46633231 8.43403825\n",
      "  5.02110218 9.62731844 4.76942002 4.48754035 5.28163746 1.90062917\n",
      "  7.40370897 2.31977586]\n",
      " [5.41412324 3.97299353 2.55997552 6.48031577 6.92634692 1.45211432\n",
      "  8.51275097 2.0017276  3.25273833 6.96997498 5.27004786 5.00713701\n",
      "  9.73590148 1.86728724 5.98823982 9.39141576 4.38930519 3.7432161\n",
      "  9.94447507 7.86745814]\n",
      " [8.7047085  8.39889193 2.777964   8.20065589 8.43679506 2.55510007\n",
      "  8.20852492 8.85183339 1.57883763 6.1511626  7.53025021 3.77113091\n",
      "  8.33413362 5.05237365 8.18311134 8.00599471 5.40685646 3.61725959\n",
      "  8.057638   3.60190021]\n",
      " [1.9017216  7.2864665  8.5844219  8.53346447 1.44623716 6.13059813\n",
      "  5.05774131 3.51532124 8.05335836 4.83619658 9.84519516 6.07000602\n",
      "  3.42607473 6.99257074 9.91246414 7.21816996 7.7647552  4.37504621\n",
      "  9.55651036 3.30196675]\n",
      " [1.85650978 5.05326155 4.1546079  2.71328298 2.29460059 8.00290809\n",
      "  6.15702049 3.69530152 2.21356263 3.33621187 6.36436012 1.26829715\n",
      "  8.2079155  5.50017798 2.02898257 9.53593368 6.48410131 3.5294601\n",
      "  9.41961619 4.37557953]\n",
      " [5.88767798 1.86775502 8.71038489 2.3406838  7.75842846 1.62052278\n",
      "  5.92970465 3.87159727 6.5653562  1.09240565 2.84901079 4.46689182\n",
      "  8.56818541 3.68856584 6.21597053 2.63331702 7.7535809  7.9546914\n",
      "  5.89099666 8.7316994 ]\n",
      " [5.86619461 1.99566775 7.00235273 9.15509464 3.88939419 8.64477134\n",
      "  8.54214193 4.25795158 5.92772247 3.33109416 8.05001312 4.53048702\n",
      "  3.38037738 5.42739886 3.44623854 8.72921196 2.50564895 1.81068034\n",
      "  6.1658527  9.58842982]]\n"
     ]
    }
   ],
   "source": [
    "# Test function\n",
    "scores = create_matrix(20,20)\n",
    "\n",
    "print(scores)"
   ]
  },
  {
   "cell_type": "code",
   "execution_count": 11,
   "metadata": {},
   "outputs": [],
   "source": [
    "def calculate_scores_for_prediction(scores_array, percent):\n",
    "    scores_for_prediction = scores_array.copy()\n",
    "    number_of_zeros = int(np.round((1-percent)*scores_array.shape[0]*scores_array.shape[1]))\n",
    "    choices = np.random.choice(scores_array.size, number_of_zeros, replace=False)\n",
    "    scores_for_prediction.ravel()[choices] = 0 \n",
    "    \n",
    "    return scores_for_prediction"
   ]
  },
  {
   "cell_type": "code",
   "execution_count": 12,
   "metadata": {},
   "outputs": [
    {
     "name": "stdout",
     "output_type": "stream",
     "text": [
      "[[2.22615164 7.53709899 7.78273411 7.34903367 3.29736239 7.41828996\n",
      "  0.         0.         3.50035782 6.92560144 8.46641421 6.16583816\n",
      "  0.         0.         6.0065867  4.02042111 3.36822142 4.45139341\n",
      "  6.18699369 0.        ]\n",
      " [0.         4.11659285 7.5890232  0.         3.17502895 0.\n",
      "  0.         4.03230916 2.51934835 0.         0.         4.54225115\n",
      "  0.         0.         5.82691654 0.         7.72232185 9.14606674\n",
      "  7.40466476 0.        ]\n",
      " [7.13736039 1.96695585 8.35158221 0.         7.61911644 8.19603295\n",
      "  0.         0.         7.82452262 0.         7.99761687 5.0247863\n",
      "  3.61566418 0.         0.         8.43111985 0.         6.01025466\n",
      "  6.82723147 5.87092732]\n",
      " [7.18595301 4.72123424 6.06063371 0.         3.9000328  0.\n",
      "  5.06362169 0.         8.77037761 1.55368574 6.0866687  2.25851066\n",
      "  0.         2.23106941 5.80068666 8.52260433 1.25345226 2.48149402\n",
      "  3.81838263 4.99792876]\n",
      " [8.92128995 8.80768215 6.73764081 7.9298429  6.45603124 3.46856567\n",
      "  7.27895348 0.         9.25708847 2.11510458 1.05899766 0.\n",
      "  0.         8.43732935 3.47419041 0.         0.         0.\n",
      "  0.         0.        ]\n",
      " [3.84071489 9.83961158 0.         7.51059102 2.63740406 1.7200058\n",
      "  0.         0.         9.30668598 0.         2.56423388 0.\n",
      "  7.53867707 7.72777328 0.         7.82133964 9.03344008 5.58957273\n",
      "  8.36779099 6.75997034]\n",
      " [6.89448864 5.38511804 3.14952066 0.         2.66710592 0.\n",
      "  4.17871759 8.88247352 6.32448814 4.97815297 5.18975742 0.\n",
      "  0.         2.46667916 5.30211144 5.3261107  0.         6.7773399\n",
      "  6.25864889 7.04535985]\n",
      " [9.17863912 7.72499447 1.25954551 6.12263237 7.95199197 8.68303429\n",
      "  2.25725347 7.99545068 4.08456461 8.95195078 0.         7.21844335\n",
      "  5.90793413 0.         0.         4.64662723 2.58792684 5.01561066\n",
      "  1.83955565 2.27908882]\n",
      " [4.81759194 0.         0.         0.         0.         4.80066908\n",
      "  0.         4.15039516 0.         6.69358506 9.72832129 1.71482003\n",
      "  0.         0.         5.95497402 5.77440385 2.87047204 2.57945975\n",
      "  0.         0.        ]\n",
      " [6.16476096 0.         3.95864927 7.45006979 0.         0.\n",
      "  0.         3.49221501 0.         8.77171864 6.22789627 1.79175126\n",
      "  2.53738544 8.55702779 9.1441547  1.16401706 2.64406845 7.68277527\n",
      "  9.86874784 2.06386938]\n",
      " [9.80412176 7.36275526 1.83747319 0.         0.         5.31651851\n",
      "  4.2719834  2.59672929 3.36200945 8.85491593 9.12068435 0.\n",
      "  5.75356278 6.22038133 7.6564722  7.36017102 7.45428727 3.56182123\n",
      "  0.         8.31064258]\n",
      " [3.86347954 2.2586268  3.22555168 4.70051531 8.43716958 0.\n",
      "  3.60617954 9.91915019 0.         0.         7.94885644 6.46993409\n",
      "  6.42019151 5.89274982 4.11777806 8.86782267 3.66876775 5.59273188\n",
      "  5.66366014 0.        ]\n",
      " [5.90646961 2.41446962 0.         0.         2.55589476 9.37863763\n",
      "  5.10318516 1.25254747 3.09107755 5.71366645 1.10312642 5.71199531\n",
      "  0.         8.22561168 0.         0.         1.23341459 4.24569359\n",
      "  0.         5.12552415]\n",
      " [0.         7.96329087 6.59251696 3.66909426 9.13200082 7.46502736\n",
      "  2.83529238 5.07091409 7.6478734  2.62008135 0.         0.\n",
      "  5.02110218 9.62731844 4.76942002 0.         5.28163746 1.90062917\n",
      "  7.40370897 2.31977586]\n",
      " [5.41412324 3.97299353 2.55997552 6.48031577 6.92634692 1.45211432\n",
      "  8.51275097 2.0017276  3.25273833 6.96997498 0.         5.00713701\n",
      "  0.         1.86728724 0.         9.39141576 4.38930519 0.\n",
      "  9.94447507 7.86745814]\n",
      " [8.7047085  8.39889193 2.777964   0.         0.         2.55510007\n",
      "  8.20852492 8.85183339 1.57883763 0.         7.53025021 0.\n",
      "  8.33413362 0.         8.18311134 8.00599471 0.         0.\n",
      "  0.         3.60190021]\n",
      " [1.9017216  7.2864665  8.5844219  8.53346447 1.44623716 6.13059813\n",
      "  0.         3.51532124 8.05335836 4.83619658 0.         0.\n",
      "  3.42607473 0.         9.91246414 7.21816996 7.7647552  4.37504621\n",
      "  9.55651036 3.30196675]\n",
      " [1.85650978 5.05326155 4.1546079  0.         0.         0.\n",
      "  0.         0.         2.21356263 3.33621187 6.36436012 1.26829715\n",
      "  0.         5.50017798 0.         9.53593368 6.48410131 3.5294601\n",
      "  9.41961619 0.        ]\n",
      " [0.         1.86775502 8.71038489 2.3406838  0.         1.62052278\n",
      "  5.92970465 3.87159727 0.         0.         2.84901079 0.\n",
      "  8.56818541 3.68856584 0.         0.         0.         7.9546914\n",
      "  5.89099666 8.7316994 ]\n",
      " [0.         0.         7.00235273 9.15509464 3.88939419 0.\n",
      "  8.54214193 0.         5.92772247 0.         8.05001312 4.53048702\n",
      "  0.         5.42739886 3.44623854 8.72921196 2.50564895 1.81068034\n",
      "  6.1658527  0.        ]]\n"
     ]
    }
   ],
   "source": [
    "# Test function\n",
    "scores_predict = calculate_scores_for_prediction(scores, 0.7)\n",
    "\n",
    "print(scores_predict)"
   ]
  },
  {
   "cell_type": "code",
   "execution_count": 13,
   "metadata": {},
   "outputs": [],
   "source": [
    "def Jaccard_Similarity(x, y):\n",
    "    intersection = len(set(x) & set(y))\n",
    "    union = len(set(x) | set(y))\n",
    "    return intersection/float(union)"
   ]
  },
  {
   "cell_type": "code",
   "execution_count": 14,
   "metadata": {},
   "outputs": [
    {
     "data": {
      "text/plain": [
       "0.03225806451612903"
      ]
     },
     "execution_count": 14,
     "metadata": {},
     "output_type": "execute_result"
    }
   ],
   "source": [
    "# Test function\n",
    "Jaccard_Similarity(scores_predict[:,0], scores_predict[:,4])"
   ]
  },
  {
   "cell_type": "code",
   "execution_count": 15,
   "metadata": {},
   "outputs": [],
   "source": [
    "def Dice_Similarity(x,y):\n",
    "    intersection = len(set(x) & set(y))\n",
    "    return (2*intersection)/(len(x) + len(y))"
   ]
  },
  {
   "cell_type": "code",
   "execution_count": 16,
   "metadata": {},
   "outputs": [
    {
     "data": {
      "text/plain": [
       "0.05"
      ]
     },
     "execution_count": 16,
     "metadata": {},
     "output_type": "execute_result"
    }
   ],
   "source": [
    "# Test function\n",
    "Dice_Similarity(scores_predict[:,0], scores_predict[:,4])"
   ]
  },
  {
   "cell_type": "code",
   "execution_count": 17,
   "metadata": {},
   "outputs": [],
   "source": [
    "def Cosine_Similarity(x,y):\n",
    "    dot_product = np.dot(x,y)\n",
    "    x_norm = np.linalg.norm(x)\n",
    "    y_norm = np.linalg.norm(y)\n",
    "    return dot_product/(x_norm*y_norm)"
   ]
  },
  {
   "cell_type": "code",
   "execution_count": 18,
   "metadata": {},
   "outputs": [
    {
     "data": {
      "text/plain": [
       "0.628695176390365"
      ]
     },
     "execution_count": 18,
     "metadata": {},
     "output_type": "execute_result"
    }
   ],
   "source": [
    "# Test function\n",
    "Cosine_Similarity(scores_predict[:,0], scores_predict[:,4])"
   ]
  },
  {
   "cell_type": "code",
   "execution_count": 19,
   "metadata": {},
   "outputs": [],
   "source": [
    "def Adjusted_Cosine_Similarity(x,y):\n",
    "    x_mean = np.mean(x)\n",
    "    x_adjusted = x - x_mean\n",
    "    \n",
    "    y_mean = np.mean(y)\n",
    "    y_adjusted = y - y_mean\n",
    "    \n",
    "    return Cosine_Similarity(x_adjusted, y_adjusted)"
   ]
  },
  {
   "cell_type": "code",
   "execution_count": 20,
   "metadata": {},
   "outputs": [
    {
     "data": {
      "text/plain": [
       "0.039389185138644874"
      ]
     },
     "execution_count": 20,
     "metadata": {},
     "output_type": "execute_result"
    }
   ],
   "source": [
    "# Test function\n",
    "Adjusted_Cosine_Similarity(scores_predict[:,0], scores_predict[:,4])"
   ]
  },
  {
   "cell_type": "code",
   "execution_count": 21,
   "metadata": {},
   "outputs": [],
   "source": [
    "def predict_scores_in_matrix(scores_predict, scores_actual, method_prediction, method_calculation, k):\n",
    "    absolute_error = 0\n",
    "    number_of_zeros = 0\n",
    "    for idx, x in np.ndenumerate(scores_predict):\n",
    "        if x == 0:\n",
    "            predicted_score = predict_score_in_place(idx[0], idx[1], scores_predict, method_prediction, method_calculation, k)\n",
    "            actual_score = scores_actual[idx[0],idx[1]]\n",
    "            absolute_error += np.absolute(predicted_score - actual_score)\n",
    "            number_of_zeros += 1\n",
    "    return absolute_error/number_of_zeros            \n",
    "            "
   ]
  },
  {
   "cell_type": "code",
   "execution_count": 22,
   "metadata": {},
   "outputs": [
    {
     "ename": "TypeError",
     "evalue": "predict_scores_in_matrix() missing 1 required positional argument: 'scores_actual'",
     "output_type": "error",
     "traceback": [
      "\u001b[1;31m---------------------------------------------------------------------------\u001b[0m",
      "\u001b[1;31mTypeError\u001b[0m                                 Traceback (most recent call last)",
      "\u001b[1;32m<ipython-input-22-b6429d6a0cb4>\u001b[0m in \u001b[0;36m<module>\u001b[1;34m()\u001b[0m\n\u001b[1;32m----> 1\u001b[1;33m \u001b[0mpredict_scores_in_matrix\u001b[0m\u001b[1;33m(\u001b[0m\u001b[0mscores_predict\u001b[0m\u001b[1;33m,\u001b[0m \u001b[0mmethod_prediction\u001b[0m \u001b[1;33m=\u001b[0m \u001b[1;34m'Adjusted Cosine'\u001b[0m\u001b[1;33m,\u001b[0m \u001b[0mmethod_calculation\u001b[0m \u001b[1;33m=\u001b[0m \u001b[1;34m'Simple Average'\u001b[0m\u001b[1;33m,\u001b[0m \u001b[0mk\u001b[0m \u001b[1;33m=\u001b[0m \u001b[1;36m2\u001b[0m\u001b[1;33m)\u001b[0m\u001b[1;33m\u001b[0m\u001b[0m\n\u001b[0m",
      "\u001b[1;31mTypeError\u001b[0m: predict_scores_in_matrix() missing 1 required positional argument: 'scores_actual'"
     ]
    }
   ],
   "source": [
    "predict_scores_in_matrix(scores_predict, method_prediction = 'Adjusted Cosine', method_calculation = 'Simple Average', k = 2)"
   ]
  },
  {
   "cell_type": "code",
   "execution_count": 23,
   "metadata": {},
   "outputs": [],
   "source": [
    "def predict_score_in_place(n_row, n_col, score_matrix, method_prediction, method_calculation, k):\n",
    "    similarities = []\n",
    "    for j in range(len(score_matrix[n_row])):\n",
    "        current_column = j\n",
    "        if j == n_col:\n",
    "            continue\n",
    "        else:\n",
    "            vector_01 = []\n",
    "            vector_02 = []\n",
    "            for i in range(len(score_matrix[:,current_column])):\n",
    "                if score_matrix[i,current_column] != 0 and score_matrix[i,n_col] != 0:\n",
    "                    vector_01.append(score_matrix[i,current_column])\n",
    "                    vector_02.append(score_matrix[i,n_col])\n",
    "            # Make some changes\n",
    "            similarity = choose_comparision_method(method_prediction, vector_01, vector_02)\n",
    "            weight = Adjusted_Cosine_Similarity(vector_01, vector_02)\n",
    "            similarities.append((similarity, current_column, weight))\n",
    "    return calculate_score(score_matrix, similarities, n_row, k, method_calculation)"
   ]
  },
  {
   "cell_type": "code",
   "execution_count": 24,
   "metadata": {},
   "outputs": [],
   "source": [
    "def choose_comparision_method(name_of_method, vector_01, vector_02):\n",
    "    if name_of_method == 'Jaccard':\n",
    "        return Jaccard_Similarity(vector_01, vector_02)\n",
    "    elif name_of_method == 'Dice':\n",
    "        return Dice_Similarity(vector_01, vector_02)\n",
    "    elif name_of_method == 'Cosine':\n",
    "        return Cosine_Similarity(vector_01, vector_02)\n",
    "    elif name_of_method == 'Adjusted Cosine':\n",
    "        return Adjusted_Cosine_Similarity(vector_01, vector_02)"
   ]
  },
  {
   "cell_type": "code",
   "execution_count": 25,
   "metadata": {},
   "outputs": [],
   "source": [
    "def calculate_score(score_matrix, similarity_matrix, row, k, method):\n",
    "    similarity_matrix.sort(key=lambda x:x[0], reverse=True)\n",
    "    sum_scores = 0\n",
    "    if method == 'Simple Average':\n",
    "        for i in range(k):\n",
    "            column = similarity_matrix[i][1]\n",
    "            score = score_matrix[row][column]\n",
    "            sum_scores += score\n",
    "        return sum_scores/k\n",
    "    elif method == 'Weighted Average':\n",
    "        sum_weights = 0;\n",
    "        for i in range(k):\n",
    "            column = similarity_matrix[i][1]\n",
    "            weight = similarity_matrix[i][2]\n",
    "            score = score_matrix[row][column]\n",
    "            weighted_score = weight*score\n",
    "            sum_scores += weighted_score\n",
    "            sum_weights += weight\n",
    "        return sum_scores/sum_weights"
   ]
  },
  {
   "cell_type": "code",
   "execution_count": 26,
   "metadata": {},
   "outputs": [],
   "source": [
    "def item_to_item_collaborative_filtering(n_rows, n_cols, percent, method_prediction, method_calculation, k, n_iters):\n",
    "    scores_matrix = create_matrix(n_rows, n_cols)\n",
    "    for i in range(n_iters):\n",
    "        scores_to_predict = calculate_scores_for_prediction(scores_matrix, percent)\n",
    "        mean_absolute_error = predict_scores_in_matrix(scores_to_predict, scores_matrix,method_prediction,method_calculation, k)\n",
    "        print(\"For iteration \", i+1, \" the mae is: \", mean_absolute_error)"
   ]
  },
  {
   "cell_type": "code",
   "execution_count": 34,
   "metadata": {},
   "outputs": [
    {
     "name": "stderr",
     "output_type": "stream",
     "text": [
      "C:\\Users\\user\\Anaconda3\\lib\\site-packages\\ipykernel_launcher.py:5: RuntimeWarning: invalid value encountered in double_scalars\n",
      "  \"\"\"\n",
      "C:\\Users\\user\\Anaconda3\\lib\\site-packages\\ipykernel_launcher.py:5: RuntimeWarning: invalid value encountered in true_divide\n",
      "  \"\"\"\n",
      "C:\\Users\\user\\Anaconda3\\lib\\site-packages\\numpy\\core\\fromnumeric.py:2920: RuntimeWarning: Mean of empty slice.\n",
      "  out=out, **kwargs)\n",
      "C:\\Users\\user\\Anaconda3\\lib\\site-packages\\numpy\\core\\_methods.py:85: RuntimeWarning: invalid value encountered in double_scalars\n",
      "  ret = ret.dtype.type(ret / rcount)\n"
     ]
    },
    {
     "name": "stdout",
     "output_type": "stream",
     "text": [
      "For iteration  1  the mae is:  3.5922527191317677\n",
      "For iteration  2  the mae is:  3.3066024702528667\n",
      "For iteration  3  the mae is:  3.6501776725785002\n",
      "For iteration  4  the mae is:  3.3258706150956936\n",
      "For iteration  5  the mae is:  3.2804548445173247\n",
      "For iteration  6  the mae is:  3.5306203665967746\n",
      "For iteration  7  the mae is:  3.3312837462296367\n",
      "For iteration  8  the mae is:  3.508216971972398\n",
      "For iteration  9  the mae is:  3.5240284325448847\n",
      "For iteration  10  the mae is:  3.7109542607465915\n"
     ]
    }
   ],
   "source": [
    "item_to_item_collaborative_filtering(20,20,0.5,'Cosine','Simple Average',5,10)"
   ]
  },
  {
   "cell_type": "code",
   "execution_count": null,
   "metadata": {},
   "outputs": [],
   "source": []
  }
 ],
 "metadata": {
  "kernelspec": {
   "display_name": "Python 3",
   "language": "python",
   "name": "python3"
  },
  "language_info": {
   "codemirror_mode": {
    "name": "ipython",
    "version": 3
   },
   "file_extension": ".py",
   "mimetype": "text/x-python",
   "name": "python",
   "nbconvert_exporter": "python",
   "pygments_lexer": "ipython3",
   "version": "3.7.0"
  }
 },
 "nbformat": 4,
 "nbformat_minor": 2
}
