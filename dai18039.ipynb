{
 "cells": [
  {
   "cell_type": "code",
   "execution_count": 1,
   "metadata": {},
   "outputs": [],
   "source": [
    "import numpy as np\n",
    "from numpy import random as rand"
   ]
  },
  {
   "cell_type": "code",
   "execution_count": 2,
   "metadata": {},
   "outputs": [],
   "source": [
    "def create_matrix(n_rows, n_columns):\n",
    "    scores_array = rand.uniform(1,10,size=(n_rows, n_columns))\n",
    "    return scores_array\n",
    " "
   ]
  },
  {
   "cell_type": "code",
   "execution_count": 114,
   "metadata": {},
   "outputs": [
    {
     "name": "stdout",
     "output_type": "stream",
     "text": [
      "[[5.36265708 2.10703664 3.71312329 4.61481869 9.7196107 ]\n",
      " [8.17963001 3.4619645  1.84202186 6.18416895 4.35127878]\n",
      " [7.38951605 2.95639157 1.40550588 8.18909246 6.73713526]\n",
      " [6.01126905 8.42338164 7.94784608 5.78392251 4.33921289]\n",
      " [5.0805607  4.80334916 8.04343701 4.54649378 9.09480025]]\n"
     ]
    }
   ],
   "source": [
    "# Test function\n",
    "scores = create_matrix(20,20)\n",
    "\n",
    "print(scores)"
   ]
  },
  {
   "cell_type": "code",
   "execution_count": 115,
   "metadata": {},
   "outputs": [],
   "source": [
    "def calculate_scores_for_prediction(scores_array, percent):\n",
    "    scores_for_prediction = scores_array.copy()\n",
    "    number_of_zeros = int(np.round((1-percent)*scores_array.shape[0]*scores_array.shape[1]))\n",
    "    choices = np.random.choice(scores_array.size, number_of_zeros, replace=False)\n",
    "    scores_for_prediction.ravel()[choices] = 0 \n",
    "    \n",
    "    return scores_for_prediction"
   ]
  },
  {
   "cell_type": "code",
   "execution_count": 117,
   "metadata": {},
   "outputs": [
    {
     "name": "stdout",
     "output_type": "stream",
     "text": [
      "[[5.36265708 2.10703664 3.71312329 4.61481869 0.        ]\n",
      " [0.         3.4619645  1.84202186 6.18416895 0.        ]\n",
      " [7.38951605 2.95639157 1.40550588 0.         6.73713526]\n",
      " [6.01126905 0.         7.94784608 5.78392251 4.33921289]\n",
      " [5.0805607  4.80334916 8.04343701 4.54649378 9.09480025]]\n"
     ]
    }
   ],
   "source": [
    "# Test function\n",
    "scores_predict = calculate_scores_for_prediction(scores, 0.7)\n",
    "\n",
    "print(scores_predict)"
   ]
  },
  {
   "cell_type": "code",
   "execution_count": 118,
   "metadata": {},
   "outputs": [],
   "source": [
    "def Jaccard_Similarity(x, y):\n",
    "    intersection = len(set(x) & set(y))\n",
    "    union = len(set(x) | set(y))\n",
    "    return intersection/float(union)"
   ]
  },
  {
   "cell_type": "code",
   "execution_count": 119,
   "metadata": {},
   "outputs": [
    {
     "data": {
      "text/plain": [
       "0.125"
      ]
     },
     "execution_count": 119,
     "metadata": {},
     "output_type": "execute_result"
    }
   ],
   "source": [
    "# Test function\n",
    "Jaccard_Similarity(scores_predict[:,0], scores_predict[:,4])"
   ]
  },
  {
   "cell_type": "code",
   "execution_count": 120,
   "metadata": {},
   "outputs": [],
   "source": [
    "def Dice_Similarity(x,y):\n",
    "    intersection = len(set(x) & set(y))\n",
    "    return (2*intersection)/(len(x) + len(y))"
   ]
  },
  {
   "cell_type": "code",
   "execution_count": 121,
   "metadata": {},
   "outputs": [
    {
     "data": {
      "text/plain": [
       "0.2"
      ]
     },
     "execution_count": 121,
     "metadata": {},
     "output_type": "execute_result"
    }
   ],
   "source": [
    "# Test function\n",
    "Dice_Similarity(scores_predict[:,0], scores_predict[:,4])"
   ]
  },
  {
   "cell_type": "code",
   "execution_count": 122,
   "metadata": {},
   "outputs": [],
   "source": [
    "def Cosine_Similarity(x,y):\n",
    "    dot_product = np.dot(x,y)\n",
    "    x_norm = np.linalg.norm(x)\n",
    "    y_norm = np.linalg.norm(y)\n",
    "    return dot_product/(x_norm*y_norm)"
   ]
  },
  {
   "cell_type": "code",
   "execution_count": 123,
   "metadata": {},
   "outputs": [
    {
     "data": {
      "text/plain": [
       "0.8354461414340628"
      ]
     },
     "execution_count": 123,
     "metadata": {},
     "output_type": "execute_result"
    }
   ],
   "source": [
    "# Test function\n",
    "Cosine_Similarity(scores_predict[:,0], scores_predict[:,4])"
   ]
  },
  {
   "cell_type": "code",
   "execution_count": 124,
   "metadata": {},
   "outputs": [],
   "source": [
    "def Adjusted_Cosine_Similarity(x,y):\n",
    "    x_mean = np.mean(x)\n",
    "    x_adjusted = x - x_mean\n",
    "    \n",
    "    y_mean = np.mean(y)\n",
    "    y_adjusted = y - y_mean\n",
    "    \n",
    "    return Cosine_Similarity(x_adjusted, y_adjusted)"
   ]
  },
  {
   "cell_type": "code",
   "execution_count": 125,
   "metadata": {},
   "outputs": [
    {
     "data": {
      "text/plain": [
       "0.5686346532793967"
      ]
     },
     "execution_count": 125,
     "metadata": {},
     "output_type": "execute_result"
    }
   ],
   "source": [
    "# Test function\n",
    "Adjusted_Cosine_Similarity(scores_predict[:,0], scores_predict[:,4])"
   ]
  },
  {
   "cell_type": "code",
   "execution_count": 170,
   "metadata": {},
   "outputs": [],
   "source": [
    "def predict_scores_in_matrix(scores_predict, scores_actual, method_prediction, method_calculation, k):\n",
    "    mae = 0\n",
    "    for idx, x in np.ndenumerate(scores_predict):\n",
    "        if x == 0:\n",
    "            predicted_score = predict_score_in_place(idx[0], idx[1], scores_predict, method_prediction, method_calculation, k)\n",
    "            actual_score = scores_actual[idx[0],idx[1]]\n",
    "            mae += np.absolute(predicted_score - actual_score)\n",
    "    return mae            \n",
    "            "
   ]
  },
  {
   "cell_type": "code",
   "execution_count": 171,
   "metadata": {},
   "outputs": [
    {
     "ename": "TypeError",
     "evalue": "predict_scores_in_matrix() missing 1 required positional argument: 'scores_actual'",
     "output_type": "error",
     "traceback": [
      "\u001b[1;31m---------------------------------------------------------------------------\u001b[0m",
      "\u001b[1;31mTypeError\u001b[0m                                 Traceback (most recent call last)",
      "\u001b[1;32m<ipython-input-171-b6429d6a0cb4>\u001b[0m in \u001b[0;36m<module>\u001b[1;34m()\u001b[0m\n\u001b[1;32m----> 1\u001b[1;33m \u001b[0mpredict_scores_in_matrix\u001b[0m\u001b[1;33m(\u001b[0m\u001b[0mscores_predict\u001b[0m\u001b[1;33m,\u001b[0m \u001b[0mmethod_prediction\u001b[0m \u001b[1;33m=\u001b[0m \u001b[1;34m'Adjusted Cosine'\u001b[0m\u001b[1;33m,\u001b[0m \u001b[0mmethod_calculation\u001b[0m \u001b[1;33m=\u001b[0m \u001b[1;34m'Simple Average'\u001b[0m\u001b[1;33m,\u001b[0m \u001b[0mk\u001b[0m \u001b[1;33m=\u001b[0m \u001b[1;36m2\u001b[0m\u001b[1;33m)\u001b[0m\u001b[1;33m\u001b[0m\u001b[0m\n\u001b[0m",
      "\u001b[1;31mTypeError\u001b[0m: predict_scores_in_matrix() missing 1 required positional argument: 'scores_actual'"
     ]
    }
   ],
   "source": [
    "predict_scores_in_matrix(scores_predict, method_prediction = 'Adjusted Cosine', method_calculation = 'Simple Average', k = 2)"
   ]
  },
  {
   "cell_type": "code",
   "execution_count": 172,
   "metadata": {},
   "outputs": [],
   "source": [
    "def predict_score_in_place(n_row, n_col, score_matrix, method_prediction, method_calculation, k):\n",
    "    similarities = []\n",
    "    for j in range(len(score_matrix[n_row])):\n",
    "        current_column = j\n",
    "        if j == n_col:\n",
    "            continue\n",
    "        else:\n",
    "            vector_01 = []\n",
    "            vector_02 = []\n",
    "            for i in range(len(score_matrix[:,current_column])):\n",
    "                if score_matrix[i,current_column] != 0 and score_matrix[i,n_col] != 0:\n",
    "                    vector_01.append(score_matrix[i,current_column])\n",
    "                    vector_02.append(score_matrix[i,n_col])\n",
    "            # Make some changes\n",
    "            similarity = choose_comparision_method(method_prediction, vector_01, vector_02)\n",
    "            weight = Adjusted_Cosine_Similarity(vector_01, vector_02)\n",
    "            similarities.append((similarity, current_column, weight))\n",
    "    return calculate_score(score_matrix, similarities, n_row, k, method_calculation)"
   ]
  },
  {
   "cell_type": "code",
   "execution_count": 173,
   "metadata": {},
   "outputs": [],
   "source": [
    "def choose_comparision_method(name_of_method, vector_01, vector_02):\n",
    "    if name_of_method == 'Jaccard':\n",
    "        return Jaccard_Similarity(vector_01, vector_02)\n",
    "    elif name_of_method == 'Dice':\n",
    "        return Dice_Similarity(vector_01, vector_02)\n",
    "    elif name_of_method == 'Cosine':\n",
    "        return Cosine_Similarity(vector_01, vector_02)\n",
    "    elif name_of_method == 'Adjusted Cosine':\n",
    "        return Adjusted_Cosine_Similarity(vector_01, vector_02)"
   ]
  },
  {
   "cell_type": "code",
   "execution_count": 174,
   "metadata": {},
   "outputs": [],
   "source": [
    "def calculate_score(score_matrix, similarity_matrix, row, k, method):\n",
    "    similarity_matrix.sort(key=lambda x:x[0], reverse=True)\n",
    "    sum_scores = 0\n",
    "    if method == 'Simple Average':\n",
    "        for i in range(k):\n",
    "            column = similarity_matrix[i][1]\n",
    "            score = score_matrix[row][column]\n",
    "            sum_scores += score\n",
    "        return sum_scores/k\n",
    "    elif method == 'Weighted Average':\n",
    "        sum_weights = 0;\n",
    "        for i in range(k):\n",
    "            column = similarity_matrix[i][1]\n",
    "            weight = similarity_matrix[i][2]\n",
    "            score = score_matrix[row][column]\n",
    "            weighted_score = weight*score\n",
    "            sum_scores += weighted_score\n",
    "            sum_weights += weight\n",
    "        return sum_scores/sum_weights"
   ]
  },
  {
   "cell_type": "code",
   "execution_count": 175,
   "metadata": {},
   "outputs": [],
   "source": [
    "def item_to_item_collaborative_filtering(n_rows, n_cols, percent, method_prediction, method_calculation, k, n_iters):\n",
    "    scores_matrix = create_matrix(n_rows, n_cols)\n",
    "    for i in range(n_iters):\n",
    "        scores_to_predict = calculate_scores_for_prediction(scores_matrix, percent)\n",
    "        mean_absolute_error = predict_scores_in_matrix(scores_to_predict, scores_matrix,method_prediction,method_calculation, k)\n",
    "        print(\"For iteration \", i+1, \" the mae is: \", mean_absolute_error)"
   ]
  },
  {
   "cell_type": "code",
   "execution_count": 180,
   "metadata": {},
   "outputs": [
    {
     "name": "stdout",
     "output_type": "stream",
     "text": [
      "For iteration  1  the mae is:  569.1543771252826\n",
      "For iteration  2  the mae is:  553.3976244444865\n",
      "For iteration  3  the mae is:  590.784631040791\n",
      "For iteration  4  the mae is:  599.82398794429\n",
      "For iteration  5  the mae is:  577.9388722902141\n",
      "For iteration  6  the mae is:  552.0555605718326\n",
      "For iteration  7  the mae is:  560.6918832404845\n",
      "For iteration  8  the mae is:  605.7102871059817\n",
      "For iteration  9  the mae is:  550.5181262540964\n",
      "For iteration  10  the mae is:  590.5085876055665\n"
     ]
    }
   ],
   "source": [
    "item_to_item_collaborative_filtering(50,50,0.9,'Cosine','Simple Average',20,10)"
   ]
  },
  {
   "cell_type": "code",
   "execution_count": null,
   "metadata": {},
   "outputs": [],
   "source": []
  }
 ],
 "metadata": {
  "kernelspec": {
   "display_name": "Python 3",
   "language": "python",
   "name": "python3"
  },
  "language_info": {
   "codemirror_mode": {
    "name": "ipython",
    "version": 3
   },
   "file_extension": ".py",
   "mimetype": "text/x-python",
   "name": "python",
   "nbconvert_exporter": "python",
   "pygments_lexer": "ipython3",
   "version": "3.7.0"
  }
 },
 "nbformat": 4,
 "nbformat_minor": 2
}
