{
 "cells": [
  {
   "cell_type": "code",
   "execution_count": 1,
   "metadata": {},
   "outputs": [],
   "source": [
    "import numpy as np\n",
    "from numpy import random"
   ]
  },
  {
   "cell_type": "code",
   "execution_count": 2,
   "metadata": {},
   "outputs": [],
   "source": [
    "def create_matrix(n_rows, n_columns):\n",
    "    scores_array = random.uniform(1,10,size=(n_rows, n_columns))\n",
    "    return scores_array\n",
    " "
   ]
  },
  {
   "cell_type": "code",
   "execution_count": 3,
   "metadata": {},
   "outputs": [
    {
     "name": "stdout",
     "output_type": "stream",
     "text": [
      "[[2.43862572 7.88014676 4.81175422 6.59346732 5.03518888]\n",
      " [4.82845121 9.96440189 3.92568142 7.86006789 5.73713546]\n",
      " [3.33099753 9.83087896 6.73831499 4.17075784 4.90746879]\n",
      " [2.82805867 4.74246535 4.71315176 9.93965604 9.96803223]\n",
      " [5.80991865 1.50380707 2.48436743 9.02570087 9.355098  ]]\n"
     ]
    }
   ],
   "source": [
    "# Test function\n",
    "scores = create_matrix(5,5)\n",
    "\n",
    "print(scores)"
   ]
  },
  {
   "cell_type": "code",
   "execution_count": 4,
   "metadata": {},
   "outputs": [],
   "source": [
    "def calculate_scores_for_prediction(scores_array, percent):\n",
    "    scores_for_prediction = scores_array.copy()\n",
    "    number_of_zeros = int(np.round((1-percent)*scores_array.shape[0]*scores_array.shape[1]))\n",
    "    choices = np.random.choice(scores_array.size, number_of_zeros, replace=False)\n",
    "    scores_for_prediction.ravel()[choices] = 0 \n",
    "    \n",
    "    return scores_for_prediction"
   ]
  },
  {
   "cell_type": "code",
   "execution_count": 5,
   "metadata": {},
   "outputs": [
    {
     "name": "stdout",
     "output_type": "stream",
     "text": [
      "[[2.43862572 7.88014676 4.81175422 6.59346732 5.03518888]\n",
      " [4.82845121 9.96440189 3.92568142 0.         5.73713546]\n",
      " [3.33099753 9.83087896 6.73831499 4.17075784 4.90746879]\n",
      " [2.82805867 4.74246535 4.71315176 9.93965604 9.96803223]\n",
      " [5.80991865 1.50380707 0.         9.02570087 9.355098  ]]\n"
     ]
    }
   ],
   "source": [
    "# Test function\n",
    "scores_predict = calculate_scores_for_prediction(scores, 0.9)\n",
    "\n",
    "print(scores_predict)"
   ]
  },
  {
   "cell_type": "code",
   "execution_count": 6,
   "metadata": {},
   "outputs": [],
   "source": [
    "def Jaccard_Similarity(x, y):\n",
    "    intersection = len(set(x) & set(y))\n",
    "    union = len(set(x) | set(y))\n",
    "    return intersection/float(union)"
   ]
  },
  {
   "cell_type": "code",
   "execution_count": 7,
   "metadata": {},
   "outputs": [
    {
     "data": {
      "text/plain": [
       "0.42857142857142855"
      ]
     },
     "execution_count": 7,
     "metadata": {},
     "output_type": "execute_result"
    }
   ],
   "source": [
    "# Test function\n",
    "Jaccard_Similarity(np.array([1,3,5,6,7]), np.array([1,2,5,6,8]))"
   ]
  },
  {
   "cell_type": "code",
   "execution_count": 8,
   "metadata": {},
   "outputs": [],
   "source": [
    "def Dice_Similarity(x,y):\n",
    "    intersection = len(set(x) & set(y))\n",
    "    return (2*intersection)/(len(x) + len(y))"
   ]
  },
  {
   "cell_type": "code",
   "execution_count": 9,
   "metadata": {},
   "outputs": [
    {
     "data": {
      "text/plain": [
       "0.8"
      ]
     },
     "execution_count": 9,
     "metadata": {},
     "output_type": "execute_result"
    }
   ],
   "source": [
    "# Test function\n",
    "Dice_Similarity(np.array([1,3,5,6,8]), np.array([1,2,5,6,8]))"
   ]
  },
  {
   "cell_type": "code",
   "execution_count": 10,
   "metadata": {},
   "outputs": [],
   "source": [
    "def Cosine_Similarity(x,y):\n",
    "    dot_product = np.dot(x,y)\n",
    "    x_norm = np.linalg.norm(x)\n",
    "    y_norm = np.linalg.norm(y)\n",
    "    return dot_product/(x_norm*y_norm)"
   ]
  },
  {
   "cell_type": "code",
   "execution_count": 11,
   "metadata": {},
   "outputs": [
    {
     "data": {
      "text/plain": [
       "0.8043252633777073"
      ]
     },
     "execution_count": 11,
     "metadata": {},
     "output_type": "execute_result"
    }
   ],
   "source": [
    "# Test function\n",
    "Cosine_Similarity(np.array([1,3,5,6,8,99,45,56]), np.array([1,2,5,6,8,20,39,50]))"
   ]
  },
  {
   "cell_type": "code",
   "execution_count": 12,
   "metadata": {},
   "outputs": [],
   "source": [
    "def Adjusted_Cosine_Similarity(x,y):\n",
    "    x_mean = np.mean(x)\n",
    "    x_adjusted = x - x_mean\n",
    "    \n",
    "    y_mean = np.mean(y)\n",
    "    y_adjusted = y - y_mean\n",
    "    \n",
    "    return Cosine_Similarity(x_adjusted, y_adjusted)"
   ]
  },
  {
   "cell_type": "code",
   "execution_count": 13,
   "metadata": {},
   "outputs": [
    {
     "data": {
      "text/plain": [
       "0.6523443743895786"
      ]
     },
     "execution_count": 13,
     "metadata": {},
     "output_type": "execute_result"
    }
   ],
   "source": [
    "# Test function\n",
    "Adjusted_Cosine_Similarity(np.array([1,3,5,6,8,99,45,56]), np.array([1,2,5,6,8,20,39,50]))"
   ]
  },
  {
   "cell_type": "code",
   "execution_count": null,
   "metadata": {},
   "outputs": [],
   "source": []
  }
 ],
 "metadata": {
  "kernelspec": {
   "display_name": "Python 3",
   "language": "python",
   "name": "python3"
  },
  "language_info": {
   "codemirror_mode": {
    "name": "ipython",
    "version": 3
   },
   "file_extension": ".py",
   "mimetype": "text/x-python",
   "name": "python",
   "nbconvert_exporter": "python",
   "pygments_lexer": "ipython3",
   "version": "3.7.0"
  }
 },
 "nbformat": 4,
 "nbformat_minor": 2
}
